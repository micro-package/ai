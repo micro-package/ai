{
 "cells": [
  {
   "attachments": {},
   "cell_type": "markdown",
   "metadata": {},
   "source": [
    "Loading dependencies, env variable and preparing flatten function"
   ]
  },
  {
   "cell_type": "code",
   "execution_count": null,
   "metadata": {
    "vscode": {
     "languageId": "plaintext"
    }
   },
   "outputs": [],
   "source": [
    "\n",
    "from llama_index import GPTSimpleVectorIndex, SimpleDirectoryReader, LLMPredictor, ServiceContext, Document\n",
    "import os\n",
    "from langchain.chat_models import ChatOpenAI\n",
    "import logging\n",
    "from llama_index.langchain_helpers.text_splitter import TokenTextSplitter\n",
    "from llama_index import SimpleDirectoryReader, Document\n",
    "\n",
    "\n",
    "def flatten(lst):\n",
    "    \"\"\"\n",
    "    Flatten a list that contains other lists\n",
    "    \"\"\"\n",
    "    flat_list = []\n",
    "    for item in lst:\n",
    "        if isinstance(item, list):\n",
    "            flat_list.extend(flatten(item))\n",
    "        else:\n",
    "            flat_list.append(item)\n",
    "    return flat_list\n",
    "\n",
    "\n",
    "os.environ[\"OPENAI_API_KEY\"] = os.getenv(\"OPENAI_API_KEY\")"
   ]
  },
  {
   "attachments": {},
   "cell_type": "markdown",
   "metadata": {},
   "source": [
    "Setting up text splitter and loading directories using readers."
   ]
  },
  {
   "cell_type": "code",
   "execution_count": null,
   "metadata": {
    "vscode": {
     "languageId": "plaintext"
    }
   },
   "outputs": [],
   "source": [
    "text_splitter = TokenTextSplitter(\n",
    "    separator=\" \", chunk_size=1024, chunk_overlap=200)\n",
    "\n",
    "storytellerCommon = SimpleDirectoryReader(\n",
    "    '/home/lukasz/workspace/storyteller/packages/storyteller/src/common', recursive=True, exclude=[\"**/*.spec.ts\"]).load_data()\n",
    "storytellerSrc = SimpleDirectoryReader(\n",
    "    '/home/lukasz/workspace/storyteller/packages/storyteller/src/container', recursive=True, exclude=[\"**/*.spec.ts\"]).load_data()\n",
    "axiosStorytellerPlugin = SimpleDirectoryReader(\n",
    "    '/home/lukasz/workspace/storyteller/packages/storyteller/src/plugins/axios', recursive=True, exclude=[\"**/*.spec.ts\"]).load_data()\n",
    "storytellerStorytellerPlugin = SimpleDirectoryReader(\n",
    "    '/home/lukasz/workspace/storyteller/packages/storyteller/src/plugins/storyteller', recursive=True, exclude=[\"**/*.spec.ts\"]).load_data()\n",
    "typeormStorytellerPlugin = SimpleDirectoryReader(\n",
    "    '/home/lukasz/workspace/storyteller/packages/storyteller/src/plugins/typeorm', recursive=True, exclude=[\"**/*.spec.ts\"]).load_data()\n",
    "dynamodbStorytellerPlugin = SimpleDirectoryReader(\n",
    "    '/home/lukasz/workspace/storyteller/packages/storyteller/src/plugins/dynamodb', recursive=True, exclude=[\"**/*.spec.ts\"]).load_data()\n",
    "expressStorytellerPlugin = SimpleDirectoryReader(\n",
    "    '/home/lukasz/workspace/storyteller/packages/storyteller/src/plugins/express', recursive=True, exclude=[\"**/*.spec.ts\"]).load_data()\n",
    "testsFramework = SimpleDirectoryReader(\n",
    "    '/home/lukasz/workspace/storyteller/repositories/examples/5.1-real-life-scenario/tests/framework', recursive=True).load_data()\n",
    "tests = SimpleDirectoryReader(\n",
    "    '/home/lukasz/workspace/storyteller/repositories/examples/5.1-real-life-scenario/tests/user-needs-to-know', recursive=True).load_data()"
   ]
  },
  {
   "attachments": {},
   "cell_type": "markdown",
   "metadata": {},
   "source": [
    "Storing all documents in single index"
   ]
  },
  {
   "cell_type": "code",
   "execution_count": null,
   "metadata": {
    "vscode": {
     "languageId": "plaintext"
    }
   },
   "outputs": [],
   "source": [
    "llm_predictor = LLMPredictor(llm=ChatOpenAI(\n",
    "    temperature=0, model_name=\"gpt-4-32k\"))\n",
    "service_context = ServiceContext.from_defaults(\n",
    "    llm_predictor=llm_predictor, chunk_size_limit=4096)\n",
    "index = GPTSimpleVectorIndex.from_documents([], None, service_context)\n",
    "documents = flatten(\n",
    "    [axiosStorytellerPlugin,\n",
    "     storytellerStorytellerPlugin,\n",
    "     typeormStorytellerPlugin,\n",
    "     dynamodbStorytellerPlugin,\n",
    "     storytellerCommon,\n",
    "     storytellerSrc,\n",
    "     testsFramework, tests,\n",
    "     expressStorytellerPlugin, tests])\n",
    "for document in documents:\n",
    "    logging.info(document.doc_id)\n",
    "    index.insert(document)"
   ]
  },
  {
   "attachments": {},
   "cell_type": "markdown",
   "metadata": {},
   "source": [
    "Storing data"
   ]
  },
  {
   "cell_type": "code",
   "execution_count": null,
   "metadata": {
    "vscode": {
     "languageId": "plaintext"
    }
   },
   "outputs": [],
   "source": [
    "index.save_to_disk('index.json')"
   ]
  }
 ],
 "metadata": {
  "language_info": {
   "name": "python"
  },
  "orig_nbformat": 4
 },
 "nbformat": 4,
 "nbformat_minor": 2
}
