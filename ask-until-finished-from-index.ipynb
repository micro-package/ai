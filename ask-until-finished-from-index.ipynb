{
 "cells": [
  {
   "cell_type": "code",
   "execution_count": null,
   "metadata": {},
   "outputs": [],
   "source": []
  },
  {
   "attachments": {},
   "cell_type": "markdown",
   "metadata": {},
   "source": [
    "Ask until finished code that will be used across documentation"
   ]
  },
  {
   "cell_type": "code",
   "execution_count": null,
   "metadata": {},
   "outputs": [],
   "source": [
    "from llama_index import GPTSimpleVectorIndex, Document\n",
    "import logging\n",
    "import os\n",
    "\n",
    "os.environ[\"OPENAI_API_KEY\"] = os.getenv(\"OPENAI_API_KEY\")\n",
    "index = GPTSimpleVectorIndex.load_from_disk('./indexes/axiosPlugin.json')\n",
    "\n",
    "\n",
    "def askAndStore(prompt):\n",
    "    result = index.query(prompt)\n",
    "    logging.info(result)\n",
    "    index.insert(Document(\"[QUESTION]: \" + prompt +\n",
    "                          \"\\n[RESPONSE]: \" + result.response))\n",
    "    return result\n",
    "\n",
    "\n",
    "def askUntilFinished(prompt, originalPrompt=None):\n",
    "    extendedPrompt = prompt + \\\n",
    "        ' If you finished this response please add \"[FINISHED]\" at the end of response.'\n",
    "    result = askAndStore(extendedPrompt)\n",
    "    if \"[FINISHED]\" not in result.response:\n",
    "        askUntilFinished(\n",
    "            'It looks like you didnt finished last response. I asked you \"' + originalPrompt if originalPrompt is not None else extendedPrompt+'\" could you continue from last line you finished? If you finished please respond with just \"[FINISHED]\" otherwise continue your response from last line', extendedPrompt)"
   ]
  },
  {
   "attachments": {},
   "cell_type": "markdown",
   "metadata": {},
   "source": [
    "There is example of querying data from provided index asking about axios hooks implementation"
   ]
  },
  {
   "cell_type": "code",
   "execution_count": null,
   "metadata": {},
   "outputs": [],
   "source": [
    "prompt = \"\"\"\n",
    "\n",
    "Show me the axios plugin hooks implementation?\n",
    "\"\"\"\n",
    "askUntilFinished(prompt)"
   ]
  }
 ],
 "metadata": {
  "kernelspec": {
   "display_name": "Python 3",
   "language": "python",
   "name": "python3"
  },
  "language_info": {
   "name": "python",
   "version": "3.8.10"
  },
  "orig_nbformat": 4
 },
 "nbformat": 4,
 "nbformat_minor": 2
}
