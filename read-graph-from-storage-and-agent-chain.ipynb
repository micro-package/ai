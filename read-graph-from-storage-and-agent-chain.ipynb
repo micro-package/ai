{
 "cells": [
  {
   "attachments": {},
   "cell_type": "markdown",
   "metadata": {},
   "source": [
    "Setting up indexes from existing files.\n"
   ]
  },
  {
   "cell_type": "code",
   "execution_count": null,
   "metadata": {
    "vscode": {
     "languageId": "plaintext"
    }
   },
   "outputs": [],
   "source": [
    "\n",
    "from gpt_index.query_engine.transform_query_engine import TransformQueryEngine\n",
    "from langchain.agents import Tool\n",
    "from langchain.chains.conversation.memory import ConversationBufferMemory\n",
    "from langchain.chat_models import ChatOpenAI\n",
    "from langchain.agents import initialize_agent\n",
    "import logging\n",
    "from llama_index import download_loader, GPTVectorStoreIndex, ServiceContext, SimpleDirectoryReader\n",
    "from gpt_index.storage.storage_context import StorageContext\n",
    "from gpt_index import load_index_from_storage\n",
    "from llama_index.readers.file.base_parser import BaseParser, Dict, Path\n",
    "from pathlib import Path\n",
    "\n",
    "from llama_index.langchain_helpers.agents import LlamaToolkit, create_llama_chat_agent, IndexToolConfig\n",
    "# define a decompose transform\n",
    "from llama_index.indices.query.query_transform.base import DecomposeQueryTransform\n",
    "\n",
    "from llama_index import GPTListIndex, LLMPredictor, ServiceContext\n",
    "from langchain import OpenAI\n",
    "from llama_index.indices.composability import ComposableGraph\n",
    "\n",
    "graph = load_graph_from_storage(\n",
    "    root_id=root_id,\n",
    "    service_context=service_context,\n",
    "    storage_context=storage_context,\n",
    ")\n",
    "decompose_transform = DecomposeQueryTransform(\n",
    "    llm_predictor, verbose=True\n",
    ")\n",
    "\n",
    "\n",
    "custom_query_engines = {}\n",
    "for index in index_set.values():\n",
    "    query_engine = index.as_query_engine()\n",
    "    query_engine = TransformQueryEngine(\n",
    "        query_engine,\n",
    "        query_transform=decompose_transform,\n",
    "        transform_extra_info={'index_summary': index.index_struct.summary},\n",
    "    )\n",
    "    custom_query_engines[index.index_id] = query_engine\n",
    "custom_query_engines[graph.root_id] = graph.root_index.as_query_engine(\n",
    "    response_mode='tree_summarize',\n",
    "    verbose=True,\n",
    ")"
   ]
  },
  {
   "attachments": {},
   "cell_type": "markdown",
   "metadata": {},
   "source": [
    "Loading indexes as graph with additional descriptions about specific indexes.\n"
   ]
  },
  {
   "cell_type": "code",
   "execution_count": null,
   "metadata": {
    "vscode": {
     "languageId": "plaintext"
    }
   },
   "outputs": [],
   "source": [
    "graph_config = IndexToolConfig(\n",
    "    query_engine=query_engine,\n",
    "    name=f\"Graph Index\",\n",
    "    description=\"useful for when you want to answer queries that require analyzing storyteller plugin structures and behaviour\",\n",
    "    tool_kwargs={\"return_direct\": True}\n",
    ")\n",
    "index_configs = []\n",
    "for plugin in plugins:\n",
    "    query_engine = index_set[plugin].as_query_engine(\n",
    "        similarity_top_k=3,\n",
    "    )\n",
    "    tool_config = IndexToolConfig(\n",
    "        query_engine=query_engine,\n",
    "        name=f\"Vector Index {plugin}\",\n",
    "        description=f\"useful for when you want to answer queries about the storyteller {plugin} plugin structure, behaviour and implementation\",\n",
    "        tool_kwargs={\"return_direct\": True}\n",
    "    )\n",
    "    index_configs.append(tool_config)\n",
    "\n",
    "    toolkit = LlamaToolkit(\n",
    "        index_configs=index_configs + [graph_config],\n",
    "    )"
   ]
  },
  {
   "attachments": {},
   "cell_type": "markdown",
   "metadata": {},
   "source": [
    "Prepareing LLM with agent chain."
   ]
  },
  {
   "cell_type": "code",
   "execution_count": null,
   "metadata": {
    "vscode": {
     "languageId": "plaintext"
    }
   },
   "outputs": [],
   "source": [
    "memory = ConversationBufferMemory(memory_key=\"chat_history\")\n",
    "llm = ChatOpenAI(\n",
    "    temperature=0, model_name=\"gpt-4\")\n",
    "agent_chain = create_llama_chat_agent(\n",
    "    toolkit,\n",
    "    llm,\n",
    "    memory=memory,\n",
    "    verbose=True\n",
    ")"
   ]
  },
  {
   "attachments": {},
   "cell_type": "markdown",
   "metadata": {},
   "source": [
    "Asking questions"
   ]
  },
  {
   "cell_type": "code",
   "execution_count": null,
   "metadata": {
    "vscode": {
     "languageId": "plaintext"
    }
   },
   "outputs": [],
   "source": [
    "\n",
    "agent_chain.run(input=\"Please provide information about all plugin hooks\")"
   ]
  }
 ],
 "metadata": {
  "language_info": {
   "name": "python"
  },
  "orig_nbformat": 4
 },
 "nbformat": 4,
 "nbformat_minor": 2
}
